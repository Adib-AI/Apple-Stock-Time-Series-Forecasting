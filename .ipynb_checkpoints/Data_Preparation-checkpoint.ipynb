{
 "cells": [
  {
   "cell_type": "code",
   "execution_count": 1,
   "metadata": {},
   "outputs": [],
   "source": [
    "import numpy as np\n",
    "import pandas as pd\n",
    "import seaborn as sns\n",
    "import matplotlib.pyplot as plt\n",
    "from sklearn.preprocessing import MinMaxScaler\n",
    "from statsmodels.tsa.seasonal import seasonal_decompose"
   ]
  },
  {
   "cell_type": "code",
   "execution_count": 2,
   "metadata": {},
   "outputs": [],
   "source": [
    "df = pd.read_excel('C:/Users/adiba/Data Science/Data Analisis/ETL/Stock market/result.xls')"
   ]
  },
  {
   "cell_type": "code",
   "execution_count": 3,
   "metadata": {},
   "outputs": [
    {
     "data": {
      "text/html": [
       "<div>\n",
       "<style scoped>\n",
       "    .dataframe tbody tr th:only-of-type {\n",
       "        vertical-align: middle;\n",
       "    }\n",
       "\n",
       "    .dataframe tbody tr th {\n",
       "        vertical-align: top;\n",
       "    }\n",
       "\n",
       "    .dataframe thead th {\n",
       "        text-align: right;\n",
       "    }\n",
       "</style>\n",
       "<table border=\"1\" class=\"dataframe\">\n",
       "  <thead>\n",
       "    <tr style=\"text-align: right;\">\n",
       "      <th></th>\n",
       "      <th>date</th>\n",
       "      <th>close</th>\n",
       "      <th>volume</th>\n",
       "      <th>open</th>\n",
       "      <th>high</th>\n",
       "      <th>low</th>\n",
       "    </tr>\n",
       "  </thead>\n",
       "  <tbody>\n",
       "    <tr>\n",
       "      <th>0</th>\n",
       "      <td>2020-02-28</td>\n",
       "      <td>$273.36</td>\n",
       "      <td>106721200</td>\n",
       "      <td>$257.26</td>\n",
       "      <td>$278.41</td>\n",
       "      <td>$256.37</td>\n",
       "    </tr>\n",
       "    <tr>\n",
       "      <th>1</th>\n",
       "      <td>2020-02-27</td>\n",
       "      <td>$273.52</td>\n",
       "      <td>80151380</td>\n",
       "      <td>$281.1</td>\n",
       "      <td>$286</td>\n",
       "      <td>$272.96</td>\n",
       "    </tr>\n",
       "    <tr>\n",
       "      <th>2</th>\n",
       "      <td>2020-02-26</td>\n",
       "      <td>$292.65</td>\n",
       "      <td>49678430</td>\n",
       "      <td>$286.53</td>\n",
       "      <td>$297.88</td>\n",
       "      <td>$286.5</td>\n",
       "    </tr>\n",
       "    <tr>\n",
       "      <th>3</th>\n",
       "      <td>2020-02-25</td>\n",
       "      <td>$288.08</td>\n",
       "      <td>57668360</td>\n",
       "      <td>$300.95</td>\n",
       "      <td>$302.53</td>\n",
       "      <td>$286.13</td>\n",
       "    </tr>\n",
       "    <tr>\n",
       "      <th>4</th>\n",
       "      <td>2020-02-24</td>\n",
       "      <td>$298.18</td>\n",
       "      <td>55548830</td>\n",
       "      <td>$297.26</td>\n",
       "      <td>$304.18</td>\n",
       "      <td>$289.23</td>\n",
       "    </tr>\n",
       "  </tbody>\n",
       "</table>\n",
       "</div>"
      ],
      "text/plain": [
       "        date       close     volume        open        high         low\n",
       "0 2020-02-28   $273.36    106721200   $257.26     $278.41     $256.37  \n",
       "1 2020-02-27   $273.52     80151380   $281.1      $286        $272.96  \n",
       "2 2020-02-26   $292.65     49678430   $286.53     $297.88     $286.5   \n",
       "3 2020-02-25   $288.08     57668360   $300.95     $302.53     $286.13  \n",
       "4 2020-02-24   $298.18     55548830   $297.26     $304.18     $289.23  "
      ]
     },
     "execution_count": 3,
     "metadata": {},
     "output_type": "execute_result"
    }
   ],
   "source": [
    "df2 = df.copy()\n",
    "df2.head()"
   ]
  },
  {
   "cell_type": "code",
   "execution_count": 4,
   "metadata": {},
   "outputs": [
    {
     "data": {
      "text/html": [
       "<div>\n",
       "<style scoped>\n",
       "    .dataframe tbody tr th:only-of-type {\n",
       "        vertical-align: middle;\n",
       "    }\n",
       "\n",
       "    .dataframe tbody tr th {\n",
       "        vertical-align: top;\n",
       "    }\n",
       "\n",
       "    .dataframe thead th {\n",
       "        text-align: right;\n",
       "    }\n",
       "</style>\n",
       "<table border=\"1\" class=\"dataframe\">\n",
       "  <thead>\n",
       "    <tr style=\"text-align: right;\">\n",
       "      <th></th>\n",
       "      <th>date</th>\n",
       "      <th>close</th>\n",
       "      <th>volume</th>\n",
       "      <th>open</th>\n",
       "      <th>high</th>\n",
       "      <th>low</th>\n",
       "    </tr>\n",
       "  </thead>\n",
       "  <tbody>\n",
       "    <tr>\n",
       "      <th>0</th>\n",
       "      <td>2020-02-28</td>\n",
       "      <td>$273.36</td>\n",
       "      <td>106721200</td>\n",
       "      <td>$257.26</td>\n",
       "      <td>$278.41</td>\n",
       "      <td>$256.37</td>\n",
       "    </tr>\n",
       "    <tr>\n",
       "      <th>1</th>\n",
       "      <td>2020-02-27</td>\n",
       "      <td>$273.52</td>\n",
       "      <td>80151380</td>\n",
       "      <td>$281.1</td>\n",
       "      <td>$286</td>\n",
       "      <td>$272.96</td>\n",
       "    </tr>\n",
       "    <tr>\n",
       "      <th>2</th>\n",
       "      <td>2020-02-26</td>\n",
       "      <td>$292.65</td>\n",
       "      <td>49678430</td>\n",
       "      <td>$286.53</td>\n",
       "      <td>$297.88</td>\n",
       "      <td>$286.5</td>\n",
       "    </tr>\n",
       "    <tr>\n",
       "      <th>3</th>\n",
       "      <td>2020-02-25</td>\n",
       "      <td>$288.08</td>\n",
       "      <td>57668360</td>\n",
       "      <td>$300.95</td>\n",
       "      <td>$302.53</td>\n",
       "      <td>$286.13</td>\n",
       "    </tr>\n",
       "    <tr>\n",
       "      <th>4</th>\n",
       "      <td>2020-02-24</td>\n",
       "      <td>$298.18</td>\n",
       "      <td>55548830</td>\n",
       "      <td>$297.26</td>\n",
       "      <td>$304.18</td>\n",
       "      <td>$289.23</td>\n",
       "    </tr>\n",
       "  </tbody>\n",
       "</table>\n",
       "</div>"
      ],
      "text/plain": [
       "        date       close     volume        open        high         low\n",
       "0 2020-02-28   $273.36    106721200   $257.26     $278.41     $256.37  \n",
       "1 2020-02-27   $273.52     80151380   $281.1      $286        $272.96  \n",
       "2 2020-02-26   $292.65     49678430   $286.53     $297.88     $286.5   \n",
       "3 2020-02-25   $288.08     57668360   $300.95     $302.53     $286.13  \n",
       "4 2020-02-24   $298.18     55548830   $297.26     $304.18     $289.23  "
      ]
     },
     "execution_count": 4,
     "metadata": {},
     "output_type": "execute_result"
    }
   ],
   "source": [
    "df.head()"
   ]
  },
  {
   "cell_type": "code",
   "execution_count": 5,
   "metadata": {},
   "outputs": [],
   "source": [
    "df['year'] = df.date.dt.year"
   ]
  },
  {
   "cell_type": "code",
   "execution_count": 6,
   "metadata": {},
   "outputs": [],
   "source": [
    "df = df.sort_values(by = 'year', ascending = True).reset_index(drop = True)"
   ]
  },
  {
   "cell_type": "code",
   "execution_count": 7,
   "metadata": {},
   "outputs": [
    {
     "data": {
      "text/html": [
       "<div>\n",
       "<style scoped>\n",
       "    .dataframe tbody tr th:only-of-type {\n",
       "        vertical-align: middle;\n",
       "    }\n",
       "\n",
       "    .dataframe tbody tr th {\n",
       "        vertical-align: top;\n",
       "    }\n",
       "\n",
       "    .dataframe thead th {\n",
       "        text-align: right;\n",
       "    }\n",
       "</style>\n",
       "<table border=\"1\" class=\"dataframe\">\n",
       "  <thead>\n",
       "    <tr style=\"text-align: right;\">\n",
       "      <th></th>\n",
       "      <th>close</th>\n",
       "      <th>volume</th>\n",
       "      <th>open</th>\n",
       "      <th>high</th>\n",
       "      <th>low</th>\n",
       "    </tr>\n",
       "    <tr>\n",
       "      <th>date</th>\n",
       "      <th></th>\n",
       "      <th></th>\n",
       "      <th></th>\n",
       "      <th></th>\n",
       "      <th></th>\n",
       "    </tr>\n",
       "  </thead>\n",
       "  <tbody>\n",
       "    <tr>\n",
       "      <th>2010-03-01</th>\n",
       "      <td>$29.8557</td>\n",
       "      <td>137312041</td>\n",
       "      <td>$29.3928</td>\n",
       "      <td>$29.9286</td>\n",
       "      <td>$29.35</td>\n",
       "    </tr>\n",
       "    <tr>\n",
       "      <th>2010-09-14</th>\n",
       "      <td>$38.2943</td>\n",
       "      <td>101293530</td>\n",
       "      <td>$38.03</td>\n",
       "      <td>$38.4528</td>\n",
       "      <td>$37.9314</td>\n",
       "    </tr>\n",
       "    <tr>\n",
       "      <th>2010-09-15</th>\n",
       "      <td>$38.6028</td>\n",
       "      <td>106805122</td>\n",
       "      <td>$38.31</td>\n",
       "      <td>$38.6257</td>\n",
       "      <td>$38.2628</td>\n",
       "    </tr>\n",
       "    <tr>\n",
       "      <th>2010-09-16</th>\n",
       "      <td>$39.51</td>\n",
       "      <td>162463819</td>\n",
       "      <td>$38.6057</td>\n",
       "      <td>$39.5243</td>\n",
       "      <td>$38.5</td>\n",
       "    </tr>\n",
       "    <tr>\n",
       "      <th>2010-09-17</th>\n",
       "      <td>$39.3386</td>\n",
       "      <td>157292917</td>\n",
       "      <td>$39.67</td>\n",
       "      <td>$39.7086</td>\n",
       "      <td>$39.0971</td>\n",
       "    </tr>\n",
       "  </tbody>\n",
       "</table>\n",
       "</div>"
      ],
      "text/plain": [
       "                 close     volume        open        high         low\n",
       "date                                                                 \n",
       "2010-03-01   $29.8557   137312041   $29.3928    $29.9286    $29.35   \n",
       "2010-09-14   $38.2943   101293530   $38.03      $38.4528    $37.9314 \n",
       "2010-09-15   $38.6028   106805122   $38.31      $38.6257    $38.2628 \n",
       "2010-09-16   $39.51     162463819   $38.6057    $39.5243    $38.5    \n",
       "2010-09-17   $39.3386   157292917   $39.67      $39.7086    $39.0971 "
      ]
     },
     "execution_count": 7,
     "metadata": {},
     "output_type": "execute_result"
    }
   ],
   "source": [
    "df.index = df['date']\n",
    "df.drop(columns = ['date','year'], inplace = True, axis = 1)\n",
    "df.head()"
   ]
  },
  {
   "cell_type": "code",
   "execution_count": 8,
   "metadata": {},
   "outputs": [
    {
     "data": {
      "text/html": [
       "<div>\n",
       "<style scoped>\n",
       "    .dataframe tbody tr th:only-of-type {\n",
       "        vertical-align: middle;\n",
       "    }\n",
       "\n",
       "    .dataframe tbody tr th {\n",
       "        vertical-align: top;\n",
       "    }\n",
       "\n",
       "    .dataframe thead th {\n",
       "        text-align: right;\n",
       "    }\n",
       "</style>\n",
       "<table border=\"1\" class=\"dataframe\">\n",
       "  <thead>\n",
       "    <tr style=\"text-align: right;\">\n",
       "      <th></th>\n",
       "      <th>close</th>\n",
       "      <th>volume</th>\n",
       "      <th>open</th>\n",
       "      <th>high</th>\n",
       "      <th>low</th>\n",
       "    </tr>\n",
       "    <tr>\n",
       "      <th>date</th>\n",
       "      <th></th>\n",
       "      <th></th>\n",
       "      <th></th>\n",
       "      <th></th>\n",
       "      <th></th>\n",
       "    </tr>\n",
       "  </thead>\n",
       "  <tbody>\n",
       "    <tr>\n",
       "      <th>2010-03-01</th>\n",
       "      <td>$29.8557</td>\n",
       "      <td>137312041</td>\n",
       "      <td>$29.3928</td>\n",
       "      <td>$29.9286</td>\n",
       "      <td>$29.35</td>\n",
       "    </tr>\n",
       "    <tr>\n",
       "      <th>2010-09-14</th>\n",
       "      <td>$38.2943</td>\n",
       "      <td>101293530</td>\n",
       "      <td>$38.03</td>\n",
       "      <td>$38.4528</td>\n",
       "      <td>$37.9314</td>\n",
       "    </tr>\n",
       "    <tr>\n",
       "      <th>2010-09-15</th>\n",
       "      <td>$38.6028</td>\n",
       "      <td>106805122</td>\n",
       "      <td>$38.31</td>\n",
       "      <td>$38.6257</td>\n",
       "      <td>$38.2628</td>\n",
       "    </tr>\n",
       "    <tr>\n",
       "      <th>2010-09-16</th>\n",
       "      <td>$39.51</td>\n",
       "      <td>162463819</td>\n",
       "      <td>$38.6057</td>\n",
       "      <td>$39.5243</td>\n",
       "      <td>$38.5</td>\n",
       "    </tr>\n",
       "    <tr>\n",
       "      <th>2010-09-17</th>\n",
       "      <td>$39.3386</td>\n",
       "      <td>157292917</td>\n",
       "      <td>$39.67</td>\n",
       "      <td>$39.7086</td>\n",
       "      <td>$39.0971</td>\n",
       "    </tr>\n",
       "  </tbody>\n",
       "</table>\n",
       "</div>"
      ],
      "text/plain": [
       "                 close     volume        open        high         low\n",
       "date                                                                 \n",
       "2010-03-01   $29.8557   137312041   $29.3928    $29.9286    $29.35   \n",
       "2010-09-14   $38.2943   101293530   $38.03      $38.4528    $37.9314 \n",
       "2010-09-15   $38.6028   106805122   $38.31      $38.6257    $38.2628 \n",
       "2010-09-16   $39.51     162463819   $38.6057    $39.5243    $38.5    \n",
       "2010-09-17   $39.3386   157292917   $39.67      $39.7086    $39.0971 "
      ]
     },
     "execution_count": 8,
     "metadata": {},
     "output_type": "execute_result"
    }
   ],
   "source": [
    "df2 = df.copy()\n",
    "df2.head()"
   ]
  },
  {
   "cell_type": "markdown",
   "metadata": {},
   "source": [
    "# Exploratory Data Analisis"
   ]
  },
  {
   "cell_type": "markdown",
   "metadata": {},
   "source": [
    "### Missing Value"
   ]
  },
  {
   "cell_type": "code",
   "execution_count": 9,
   "metadata": {},
   "outputs": [
    {
     "data": {
      "text/plain": [
       "close     0\n",
       "volume    0\n",
       "open      0\n",
       "high      0\n",
       "low       0\n",
       "dtype: int64"
      ]
     },
     "execution_count": 9,
     "metadata": {},
     "output_type": "execute_result"
    }
   ],
   "source": [
    "df.isna().sum()"
   ]
  },
  {
   "cell_type": "markdown",
   "metadata": {},
   "source": [
    "### Menghapus simbol dan ubah tipe data"
   ]
  },
  {
   "cell_type": "code",
   "execution_count": 10,
   "metadata": {},
   "outputs": [
    {
     "name": "stdout",
     "output_type": "stream",
     "text": [
      "<class 'pandas.core.frame.DataFrame'>\n",
      "DatetimeIndex: 2518 entries, 2010-03-01 to 2020-02-28\n",
      "Data columns (total 5 columns):\n",
      " #   Column  Non-Null Count  Dtype \n",
      "---  ------  --------------  ----- \n",
      " 0   close   2518 non-null   object\n",
      " 1   volume  2518 non-null   int64 \n",
      " 2   open    2518 non-null   object\n",
      " 3   high    2518 non-null   object\n",
      " 4   low     2518 non-null   object\n",
      "dtypes: int64(1), object(4)\n",
      "memory usage: 118.0+ KB\n"
     ]
    }
   ],
   "source": [
    "df.info()"
   ]
  },
  {
   "cell_type": "code",
   "execution_count": 11,
   "metadata": {},
   "outputs": [],
   "source": [
    "object_type = df.select_dtypes(include = 'object')"
   ]
  },
  {
   "cell_type": "code",
   "execution_count": 12,
   "metadata": {},
   "outputs": [],
   "source": [
    "for i in object_type:\n",
    "    df[i] = df[i].str.replace('$','').astype(float)"
   ]
  },
  {
   "cell_type": "code",
   "execution_count": 13,
   "metadata": {},
   "outputs": [
    {
     "name": "stdout",
     "output_type": "stream",
     "text": [
      "<class 'pandas.core.frame.DataFrame'>\n",
      "DatetimeIndex: 2518 entries, 2010-03-01 to 2020-02-28\n",
      "Data columns (total 5 columns):\n",
      " #   Column  Non-Null Count  Dtype  \n",
      "---  ------  --------------  -----  \n",
      " 0   close   2518 non-null   float64\n",
      " 1   volume  2518 non-null   int64  \n",
      " 2   open    2518 non-null   float64\n",
      " 3   high    2518 non-null   float64\n",
      " 4   low     2518 non-null   float64\n",
      "dtypes: float64(4), int64(1)\n",
      "memory usage: 118.0 KB\n"
     ]
    }
   ],
   "source": [
    "df.info()"
   ]
  },
  {
   "cell_type": "code",
   "execution_count": 14,
   "metadata": {},
   "outputs": [
    {
     "data": {
      "text/html": [
       "<div>\n",
       "<style scoped>\n",
       "    .dataframe tbody tr th:only-of-type {\n",
       "        vertical-align: middle;\n",
       "    }\n",
       "\n",
       "    .dataframe tbody tr th {\n",
       "        vertical-align: top;\n",
       "    }\n",
       "\n",
       "    .dataframe thead th {\n",
       "        text-align: right;\n",
       "    }\n",
       "</style>\n",
       "<table border=\"1\" class=\"dataframe\">\n",
       "  <thead>\n",
       "    <tr style=\"text-align: right;\">\n",
       "      <th></th>\n",
       "      <th>count</th>\n",
       "      <th>mean</th>\n",
       "      <th>std</th>\n",
       "      <th>min</th>\n",
       "      <th>25%</th>\n",
       "      <th>50%</th>\n",
       "      <th>75%</th>\n",
       "      <th>max</th>\n",
       "    </tr>\n",
       "  </thead>\n",
       "  <tbody>\n",
       "    <tr>\n",
       "      <th>close</th>\n",
       "      <td>2518.0</td>\n",
       "      <td>1.147695e+02</td>\n",
       "      <td>6.066241e+01</td>\n",
       "      <td>2.983570e+01</td>\n",
       "      <td>6.682247e+01</td>\n",
       "      <td>1.010900e+02</td>\n",
       "      <td>1.546300e+02</td>\n",
       "      <td>3.272000e+02</td>\n",
       "    </tr>\n",
       "    <tr>\n",
       "      <th>volume</th>\n",
       "      <td>2518.0</td>\n",
       "      <td>7.258009e+07</td>\n",
       "      <td>5.663113e+07</td>\n",
       "      <td>1.136205e+07</td>\n",
       "      <td>3.053026e+07</td>\n",
       "      <td>5.295469e+07</td>\n",
       "      <td>9.861006e+07</td>\n",
       "      <td>4.624423e+08</td>\n",
       "    </tr>\n",
       "    <tr>\n",
       "      <th>open</th>\n",
       "      <td>2518.0</td>\n",
       "      <td>1.147284e+02</td>\n",
       "      <td>6.054689e+01</td>\n",
       "      <td>2.939280e+01</td>\n",
       "      <td>6.687715e+01</td>\n",
       "      <td>1.011150e+02</td>\n",
       "      <td>1.546100e+02</td>\n",
       "      <td>3.247400e+02</td>\n",
       "    </tr>\n",
       "    <tr>\n",
       "      <th>high</th>\n",
       "      <td>2518.0</td>\n",
       "      <td>1.157664e+02</td>\n",
       "      <td>6.113446e+01</td>\n",
       "      <td>2.992860e+01</td>\n",
       "      <td>6.747530e+01</td>\n",
       "      <td>1.020850e+02</td>\n",
       "      <td>1.557350e+02</td>\n",
       "      <td>3.278500e+02</td>\n",
       "    </tr>\n",
       "    <tr>\n",
       "      <th>low</th>\n",
       "      <td>2518.0</td>\n",
       "      <td>1.136906e+02</td>\n",
       "      <td>6.008510e+01</td>\n",
       "      <td>2.846430e+01</td>\n",
       "      <td>6.637295e+01</td>\n",
       "      <td>1.003500e+02</td>\n",
       "      <td>1.533250e+02</td>\n",
       "      <td>3.233500e+02</td>\n",
       "    </tr>\n",
       "  </tbody>\n",
       "</table>\n",
       "</div>"
      ],
      "text/plain": [
       "         count          mean           std           min           25%  \\\n",
       "close   2518.0  1.147695e+02  6.066241e+01  2.983570e+01  6.682247e+01   \n",
       "volume  2518.0  7.258009e+07  5.663113e+07  1.136205e+07  3.053026e+07   \n",
       "open    2518.0  1.147284e+02  6.054689e+01  2.939280e+01  6.687715e+01   \n",
       "high    2518.0  1.157664e+02  6.113446e+01  2.992860e+01  6.747530e+01   \n",
       "low     2518.0  1.136906e+02  6.008510e+01  2.846430e+01  6.637295e+01   \n",
       "\n",
       "                 50%           75%           max  \n",
       "close   1.010900e+02  1.546300e+02  3.272000e+02  \n",
       "volume  5.295469e+07  9.861006e+07  4.624423e+08  \n",
       "open    1.011150e+02  1.546100e+02  3.247400e+02  \n",
       "high    1.020850e+02  1.557350e+02  3.278500e+02  \n",
       "low     1.003500e+02  1.533250e+02  3.233500e+02  "
      ]
     },
     "execution_count": 14,
     "metadata": {},
     "output_type": "execute_result"
    }
   ],
   "source": [
    "df.describe().T"
   ]
  },
  {
   "cell_type": "code",
   "execution_count": 15,
   "metadata": {},
   "outputs": [
    {
     "data": {
      "text/html": [
       "<div>\n",
       "<style scoped>\n",
       "    .dataframe tbody tr th:only-of-type {\n",
       "        vertical-align: middle;\n",
       "    }\n",
       "\n",
       "    .dataframe tbody tr th {\n",
       "        vertical-align: top;\n",
       "    }\n",
       "\n",
       "    .dataframe thead th {\n",
       "        text-align: right;\n",
       "    }\n",
       "</style>\n",
       "<table border=\"1\" class=\"dataframe\">\n",
       "  <thead>\n",
       "    <tr style=\"text-align: right;\">\n",
       "      <th></th>\n",
       "      <th>close</th>\n",
       "      <th>volume</th>\n",
       "      <th>open</th>\n",
       "      <th>high</th>\n",
       "      <th>low</th>\n",
       "    </tr>\n",
       "    <tr>\n",
       "      <th>date</th>\n",
       "      <th></th>\n",
       "      <th></th>\n",
       "      <th></th>\n",
       "      <th></th>\n",
       "      <th></th>\n",
       "    </tr>\n",
       "  </thead>\n",
       "  <tbody>\n",
       "    <tr>\n",
       "      <th>2010-03-01</th>\n",
       "      <td>29.8557</td>\n",
       "      <td>137312041</td>\n",
       "      <td>29.3928</td>\n",
       "      <td>29.9286</td>\n",
       "      <td>29.3500</td>\n",
       "    </tr>\n",
       "    <tr>\n",
       "      <th>2010-09-14</th>\n",
       "      <td>38.2943</td>\n",
       "      <td>101293530</td>\n",
       "      <td>38.0300</td>\n",
       "      <td>38.4528</td>\n",
       "      <td>37.9314</td>\n",
       "    </tr>\n",
       "    <tr>\n",
       "      <th>2010-09-15</th>\n",
       "      <td>38.6028</td>\n",
       "      <td>106805122</td>\n",
       "      <td>38.3100</td>\n",
       "      <td>38.6257</td>\n",
       "      <td>38.2628</td>\n",
       "    </tr>\n",
       "    <tr>\n",
       "      <th>2010-09-16</th>\n",
       "      <td>39.5100</td>\n",
       "      <td>162463819</td>\n",
       "      <td>38.6057</td>\n",
       "      <td>39.5243</td>\n",
       "      <td>38.5000</td>\n",
       "    </tr>\n",
       "    <tr>\n",
       "      <th>2010-09-17</th>\n",
       "      <td>39.3386</td>\n",
       "      <td>157292917</td>\n",
       "      <td>39.6700</td>\n",
       "      <td>39.7086</td>\n",
       "      <td>39.0971</td>\n",
       "    </tr>\n",
       "  </tbody>\n",
       "</table>\n",
       "</div>"
      ],
      "text/plain": [
       "              close     volume     open     high      low\n",
       "date                                                     \n",
       "2010-03-01  29.8557  137312041  29.3928  29.9286  29.3500\n",
       "2010-09-14  38.2943  101293530  38.0300  38.4528  37.9314\n",
       "2010-09-15  38.6028  106805122  38.3100  38.6257  38.2628\n",
       "2010-09-16  39.5100  162463819  38.6057  39.5243  38.5000\n",
       "2010-09-17  39.3386  157292917  39.6700  39.7086  39.0971"
      ]
     },
     "execution_count": 15,
     "metadata": {},
     "output_type": "execute_result"
    }
   ],
   "source": [
    "df.head()"
   ]
  },
  {
   "cell_type": "code",
   "execution_count": 16,
   "metadata": {},
   "outputs": [
    {
     "data": {
      "image/png": "[encoded data removed]",
      "text/plain": [
       "<Figure size 1152x288 with 1 Axes>"
      ]
     },
     "metadata": {},
     "output_type": "display_data"
    }
   ],
   "source": [
    "temp = df['high']\n",
    "sns.set()\n",
    "plt.subplots(figsize=(16,4))\n",
    "plt.title(\"Apple's stock\", fontsize = 16)\n",
    "plt.xlabel('Date',  fontsize = 16)\n",
    "plt.ylabel('High Price USD ($)', fontsize = 16)\n",
    "temp.plot()\n",
    "plt.show()"
   ]
  },
  {
   "cell_type": "markdown",
   "metadata": {},
   "source": [
    "### Outlier "
   ]
  },
  {
   "cell_type": "code",
   "execution_count": 17,
   "metadata": {},
   "outputs": [
    {
     "data": {
      "image/png": "[encoded data removed]",
      "text/plain": [
       "<Figure size 1080x360 with 5 Axes>"
      ]
     },
     "metadata": {},
     "output_type": "display_data"
    }
   ],
   "source": [
    "fig, ax = plt.subplots(1,5, figsize = (15,5))\n",
    "\n",
    "for i, ax in zip(df.select_dtypes(include = 'number'), ax.flatten()):\n",
    "    sns.boxplot(x = df[i], ax = ax)\n",
    "    plt.tight_layout()"
   ]
  },
  {
   "cell_type": "code",
   "execution_count": 18,
   "metadata": {},
   "outputs": [
    {
     "data": {
      "text/plain": [
       "close     42\n",
       "volume    96\n",
       "open      41\n",
       "high      42\n",
       "low       42\n",
       "dtype: int64"
      ]
     },
     "execution_count": 18,
     "metadata": {},
     "output_type": "execute_result"
    }
   ],
   "source": [
    "Q1 = df.quantile(0.25)\n",
    "Q3 = df.quantile(0.75)\n",
    "\n",
    "IQR = Q3 - Q1\n",
    "\n",
    "outlier = ((df < (Q1 - 1.5 * IQR)) | (df > (Q3 + 1.5 * IQR))).sum()\n",
    "outlier"
   ]
  },
  {
   "cell_type": "code",
   "execution_count": 19,
   "metadata": {},
   "outputs": [
    {
     "data": {
      "image/png": "[encoded data removed]",
      "text/plain": [
       "<Figure size 1152x288 with 1 Axes>"
      ]
     },
     "metadata": {},
     "output_type": "display_data"
    }
   ],
   "source": [
    "plt.figure(figsize = (16,4))\n",
    "plt.title(\"Apple's Stock Price\", fontsize = 15)\n",
    "plt.xlabel(\"Days\", fontsize = 15)\n",
    "plt.ylabel('High Price USD ($)', fontsize = 15)\n",
    "df['high'][0:2226].plot(figsize=(16,4), legend = True)\n",
    "df['high'][2226:].plot(figsize=(16,4), legend = True)\n",
    "plt.legend(['Training', 'Test'])\n",
    "plt.show()"
   ]
  },
  {
   "cell_type": "markdown",
   "metadata": {},
   "source": [
    "### Split dataset & Normalization"
   ]
  },
  {
   "cell_type": "code",
   "execution_count": 20,
   "metadata": {},
   "outputs": [],
   "source": [
    "df = df.filter(['high'])"
   ]
  },
  {
   "cell_type": "code",
   "execution_count": 21,
   "metadata": {},
   "outputs": [
    {
     "data": {
      "text/plain": [
       "array([[ 29.9286],\n",
       "       [ 38.4528],\n",
       "       [ 38.6257],\n",
       "       ...,\n",
       "       [318.4   ],\n",
       "       [324.09  ],\n",
       "       [278.41  ]])"
      ]
     },
     "execution_count": 21,
     "metadata": {},
     "output_type": "execute_result"
    }
   ],
   "source": [
    "df = df.values\n",
    "df"
   ]
  },
  {
   "cell_type": "code",
   "execution_count": 22,
   "metadata": {
    "scrolled": true
   },
   "outputs": [],
   "source": [
    "training_data = df[:2226]\n",
    "testing_data = df[2226:]"
   ]
  },
  {
   "cell_type": "code",
   "execution_count": 23,
   "metadata": {},
   "outputs": [],
   "source": [
    "scaler = MinMaxScaler()\n",
    "scaler_training = scaler.fit_transform(training_data)\n",
    "scaler_testing = scaler.transform(testing_data)"
   ]
  },
  {
   "cell_type": "code",
   "execution_count": 24,
   "metadata": {},
   "outputs": [],
   "source": [
    "X_train = []\n",
    "y_train = []\n",
    "\n",
    "for i in range(len(scaler_training) - 6):\n",
    "    X_train.append(scaler_training[i:i+6])\n",
    "    y_train.append(scaler_training[i,0])"
   ]
  },
  {
   "cell_type": "code",
   "execution_count": 25,
   "metadata": {},
   "outputs": [],
   "source": [
    "X_train, y_train = np.array(X_train), np.array(y_train)"
   ]
  },
  {
   "cell_type": "code",
   "execution_count": 26,
   "metadata": {},
   "outputs": [
    {
     "data": {
      "text/plain": [
       "((2220, 6, 1), (2220,))"
      ]
     },
     "execution_count": 26,
     "metadata": {},
     "output_type": "execute_result"
    }
   ],
   "source": [
    "X_train.shape, y_train.shape"
   ]
  },
  {
   "cell_type": "code",
   "execution_count": 27,
   "metadata": {},
   "outputs": [],
   "source": [
    "X_train = np.reshape(X_train, (X_train.shape[0], X_train.shape[1], 1))"
   ]
  },
  {
   "cell_type": "code",
   "execution_count": 28,
   "metadata": {},
   "outputs": [
    {
     "data": {
      "text/plain": [
       "(2220, 6, 1)"
      ]
     },
     "execution_count": 28,
     "metadata": {},
     "output_type": "execute_result"
    }
   ],
   "source": [
    "X_train.shape"
   ]
  },
  {
   "cell_type": "code",
   "execution_count": 29,
   "metadata": {},
   "outputs": [],
   "source": [
    "X_testing = []\n",
    "y_testing = scaler_testing[6:]\n",
    "\n",
    "for i in range(len(scaler_testing)-6):\n",
    "    X_testing.append(scaler_testing[i:i+6])"
   ]
  },
  {
   "cell_type": "code",
   "execution_count": 30,
   "metadata": {},
   "outputs": [
    {
     "data": {
      "text/plain": [
       "(286, 6, 1)"
      ]
     },
     "execution_count": 30,
     "metadata": {},
     "output_type": "execute_result"
    }
   ],
   "source": [
    "X_testing = np.array(X_testing)\n",
    "X_testing = np.reshape(X_testing,(X_testing.shape[0], X_testing.shape[1], 1))\n",
    "X_testing.shape"
   ]
  },
  {
   "cell_type": "code",
   "execution_count": 31,
   "metadata": {},
   "outputs": [
    {
     "data": {
      "text/plain": [
       "array([[[0.90419639],\n",
       "        [0.882137  ],\n",
       "        [0.95632338],\n",
       "        [0.90648094],\n",
       "        [0.86985449],\n",
       "        [0.8636641 ]],\n",
       "\n",
       "       [[0.882137  ],\n",
       "        [0.95632338],\n",
       "        [0.90648094],\n",
       "        [0.86985449],\n",
       "        [0.8636641 ],\n",
       "        [0.88135092]],\n",
       "\n",
       "       [[0.95632338],\n",
       "        [0.90648094],\n",
       "        [0.86985449],\n",
       "        [0.8636641 ],\n",
       "        [0.88135092],\n",
       "        [0.87756791]],\n",
       "\n",
       "       ...,\n",
       "\n",
       "       [[1.41893197],\n",
       "        [1.42030761],\n",
       "        [1.42507323],\n",
       "        [1.42296064],\n",
       "        [1.44148267],\n",
       "        [1.38468832]],\n",
       "\n",
       "       [[1.42030761],\n",
       "        [1.42507323],\n",
       "        [1.42296064],\n",
       "        [1.44148267],\n",
       "        [1.38468832],\n",
       "        [1.41726155]],\n",
       "\n",
       "       [[1.42507323],\n",
       "        [1.42296064],\n",
       "        [1.44148267],\n",
       "        [1.38468832],\n",
       "        [1.41726155],\n",
       "        [1.44521655]]])"
      ]
     },
     "execution_count": 31,
     "metadata": {},
     "output_type": "execute_result"
    }
   ],
   "source": [
    "X_testing"
   ]
  },
  {
   "cell_type": "code",
   "execution_count": 32,
   "metadata": {},
   "outputs": [
    {
     "data": {
      "text/plain": [
       "(286, 1)"
      ]
     },
     "execution_count": 32,
     "metadata": {},
     "output_type": "execute_result"
    }
   ],
   "source": [
    "y_testing.shape"
   ]
  }
 ],
 "metadata": {
  "kernelspec": {
   "display_name": "Python 3",
   "language": "python",
   "name": "python3"
  },
  "language_info": {
   "codemirror_mode": {
    "name": "ipython",
    "version": 3
   },
   "file_extension": ".py",
   "mimetype": "text/x-python",
   "name": "python",
   "nbconvert_exporter": "python",
   "pygments_lexer": "ipython3",
   "version": "3.8.5"
  }
 },
 "nbformat": 4,
 "nbformat_minor": 4
}
